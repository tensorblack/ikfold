{
  "nbformat": 4,
  "nbformat_minor": 0,
  "metadata": {
    "colab": {
      "name": "IKFold.ipynb",
      "version": "0.3.2",
      "provenance": [],
      "collapsed_sections": [],
      "include_colab_link": true
    },
    "kernelspec": {
      "name": "python3",
      "display_name": "Python 3"
    }
  },
  "cells": [
    {
      "cell_type": "markdown",
      "metadata": {
        "id": "view-in-github",
        "colab_type": "text"
      },
      "source": [
        "<a href=\"https://colab.research.google.com/github/tensorblack/ikfold/blob/master/IKFold.ipynb\" target=\"_parent\"><img src=\"https://colab.research.google.com/assets/colab-badge.svg\" alt=\"Open In Colab\"/></a>"
      ]
    },
    {
      "cell_type": "code",
      "metadata": {
        "id": "AckuDK04af2J",
        "colab_type": "code",
        "colab": {
          "base_uri": "https://localhost:8080/",
          "height": 660
        },
        "outputId": "06f8c75c-1cd9-42ce-a851-25a194a7bc0d"
      },
      "source": [
        "from sklearn.model_selection import train_test_split\n",
        "from sklearn.datasets import load_iris\n",
        "import pandas as pd\n",
        "import numpy as np\n",
        "\n",
        "# Incremental K-Fold Cross Validation Dataset Splitter for Pandas Dataframes\n",
        "# Given number of folds k, create k groups of incremental size S\n",
        "# For each increment i in 1:k+1, S = i/k * len(df)\n",
        "# Also supports creating a holdout set of data for later validation\n",
        "\n",
        "class IKFold():\n",
        "  # Initialize object parameters\n",
        "  def __init__(self, df, k=5, test_size=.33, random_state=42, shuffle=True,\n",
        "               target='Class', holdout_size=.1, verbose=False):\n",
        "    if verbose:\n",
        "      print(\"DF Shape: {}\".format(df.shape))\n",
        "    self.verbose      = verbose\n",
        "    self.df           = df \n",
        "    self.k            = k\n",
        "    self.test_size    = test_size\n",
        "    self.target       = target\n",
        "    self.random_state = random_state\n",
        "    self.shuffle      = shuffle\n",
        "    if self.shuffle:\n",
        "      self.df = self.df.sample(frac=1)\n",
        "  \n",
        "  # Holdout function returns a holdout set of data\n",
        "  # And resaves internal dataframe without it\n",
        "  def holdout(self, p=.1):\n",
        "    tdf = self.df.copy()\n",
        "    msk = np.random.rand(len(tdf))<p\n",
        "    holdout = tdf[msk]\n",
        "    # Update df to remove holdout\n",
        "    self.df = tdf[~msk]\n",
        "    if self.verbose:\n",
        "        print(\"Holdout length: {}\".format(len(holdout)))\n",
        "        print(\"New DF Length: {}\".format(len(self.df)))\n",
        "    return holdout\n",
        "  \n",
        "  # Split is a generator, returning tuples of train_test_split resulting\n",
        "  # (X_train, X_test, y_train, y_test)\n",
        "  def split(self):\n",
        "    tdf = self.df.copy()\n",
        "    for i in range(1, self.k+1):\n",
        "      tdf = tdf.sample(frac=i/self.k)\n",
        "      y = tdf[self.target].values\n",
        "      X = tdf.drop([self.target], axis=1).values\n",
        "      \n",
        "      X_train, X_test, y_train, y_test = train_test_split(\n",
        "        X, y, test_size=self.test_size, random_state=self.random_state)\n",
        "      \n",
        "      yield (X_train, X_test, y_train, y_test)\n",
        "\n",
        "data = load_iris()\n",
        "\n",
        "X = data.data\n",
        "y = data.target\n",
        "df = pd.DataFrame(X, columns=data.feature_names)\n",
        "df['Class'] = y\n",
        "\n",
        "hskf = HSKFold(df, verbose=False)\n",
        "holdout = hskf.holdout(.1)\n",
        "groups = []\n",
        "for fold_idx, (X_train, X_test, y_train, y_test) in enumerate(hskf.split()):\n",
        "      t = {}\n",
        "      t['group'] = enum\n",
        "      t['fold'] = fold_idx\n",
        "      t['X_train'] = X_train\n",
        "      t['y_train'] = y_train\n",
        "      t['X_test']  = X_test\n",
        "      t['y_test']  = y_test\n",
        "      for key, value in t.items():\n",
        "        if key in ['group','fold'] :\n",
        "          print(key, value)\n",
        "        else:\n",
        "          print(key, value.shape)\n",
        "      groups.append(t)\n",
        "      print()"
      ],
      "execution_count": 12,
      "outputs": [
        {
          "output_type": "stream",
          "text": [
            "group 0\n",
            "fold 0\n",
            "X_train (16, 5)\n",
            "y_train (16,)\n",
            "X_test (9, 5)\n",
            "y_test (9,)\n",
            "\n",
            "group 0\n",
            "fold 1\n",
            "X_train (37, 5)\n",
            "y_train (37,)\n",
            "X_test (19, 5)\n",
            "y_test (19,)\n",
            "\n",
            "group 0\n",
            "fold 2\n",
            "X_train (56, 5)\n",
            "y_train (56,)\n",
            "X_test (29, 5)\n",
            "y_test (29,)\n",
            "\n",
            "group 0\n",
            "fold 3\n",
            "X_train (75, 5)\n",
            "y_train (75,)\n",
            "X_test (37, 5)\n",
            "y_test (37,)\n",
            "\n",
            "group 0\n",
            "fold 4\n",
            "X_train (96, 5)\n",
            "y_train (96,)\n",
            "X_test (48, 5)\n",
            "y_test (48,)\n",
            "\n"
          ],
          "name": "stdout"
        }
      ]
    },
    {
      "cell_type": "code",
      "metadata": {
        "id": "G0ENv2TJpvvH",
        "colab_type": "code",
        "colab": {}
      },
      "source": [
        ""
      ],
      "execution_count": 0,
      "outputs": []
    }
  ]
}
{
  "nbformat": 4,
  "nbformat_minor": 0,
  "metadata": {
    "colab": {
      "name": "IKFold.ipynb",
      "version": "0.3.2",
      "provenance": [],
      "collapsed_sections": [],
      "include_colab_link": true
    },
    "kernelspec": {
      "name": "python3",
      "display_name": "Python 3"
    }
  },
  "cells": [
    {
      "cell_type": "markdown",
      "metadata": {
        "id": "view-in-github",
        "colab_type": "text"
      },
      "source": [
        "<a href=\"https://colab.research.google.com/github/tensorblack/ikfold/blob/master/IKFold.ipynb\" target=\"_parent\"><img src=\"https://colab.research.google.com/assets/colab-badge.svg\" alt=\"Open In Colab\"/></a>"
      ]
    },
    {
      "cell_type": "code",
      "metadata": {
        "id": "AckuDK04af2J",
        "colab_type": "code",
        "colab": {}
      },
      "source": [
        "from sklearn.model_selection import train_test_split\n",
        "import numpy as np\n",
        "\n",
        "# Incremental K-Fold Cross Validation Dataset Splitter for Pandas Dataframes\n",
        "# Given number of folds k, create k groups of incremental size S\n",
        "# For each increment i in 1:k+1, S = i/k * len(df)\n",
        "# Also supports creating a holdout set of data for later validation\n",
        "\n",
        "class IKFold():\n",
        "  # Initialize object parameters\n",
        "  def __init__(self, df, k=5, test_size=.33, random_state=42, shuffle=True,\n",
        "               target='Class', holdout_size=.1, verbose=False):\n",
        "    if verbose:\n",
        "      print(\"DF Shape: {}\".format(df.shape))\n",
        "    self.verbose      = verbose\n",
        "    self.df           = df \n",
        "    self.k            = k\n",
        "    self.test_size    = test_size\n",
        "    self.target       = target\n",
        "    self.random_state = random_state\n",
        "    self.shuffle      = shuffle\n",
        "    if self.shuffle:\n",
        "      self.df = self.df.sample(frac=1)\n",
        "  \n",
        "  # Holdout function returns a holdout set of data\n",
        "  # And resaves internal dataframe without it\n",
        "  def holdout(self, p=.1):\n",
        "    tdf = self.df.copy()\n",
        "    msk = np.random.rand(len(tdf))<p\n",
        "    holdout = tdf[msk]\n",
        "    # Update df to remove holdout\n",
        "    self.df = tdf[~msk]\n",
        "    if self.verbose:\n",
        "        print(\"Holdout length: {}\".format(len(holdout)))\n",
        "        print(\"New DF Length: {}\".format(len(self.df)))\n",
        "    return holdout\n",
        "  \n",
        "  # Split is a generator, returning tuples of train_test_split resulting\n",
        "  # (X_train, X_test, y_train, y_test)\n",
        "  def split(self):\n",
        "    for i in range(1, self.k+1):\n",
        "      tdf = self.df.copy()\n",
        "      tdf = tdf.sample(frac=i/self.k)\n",
        "      y = tdf[self.target].values\n",
        "      X = tdf.drop([self.target], axis=1).values\n",
        "      \n",
        "      X_train, X_test, y_train, y_test = train_test_split(\n",
        "        X, y, test_size=self.test_size, random_state=self.random_state)\n",
        "      \n",
        "      yield (X_train, X_test, y_train, y_test)\n"
      ],
      "execution_count": 0,
      "outputs": []
    },
    {
      "cell_type": "code",
      "metadata": {
        "id": "tURIOFeuyv0f",
        "colab_type": "code",
        "colab": {
          "base_uri": "https://localhost:8080/",
          "height": 660
        },
        "outputId": "1bc632bc-9106-4831-d091-44c4c84ca222"
      },
      "source": [
        "from sklearn.datasets import load_iris\n",
        "import pandas as pd\n",
        "\n",
        "data = load_iris()\n",
        "X = data.data\n",
        "y = data.target\n",
        "df = pd.DataFrame(X, columns=data.feature_names)\n",
        "df['Class'] = y\n",
        "\n",
        "ikf = IKFold(df, verbose=False)\n",
        "holdout = ikf.holdout(.1)\n",
        "for fold_idx, (X_train, X_test, y_train, y_test) in enumerate(ikf.split()):\n",
        "      t = {}\n",
        "      t['fold'] = fold_idx\n",
        "      t['X_train'] = X_train\n",
        "      t['y_train'] = y_train\n",
        "      t['X_test']  = X_test\n",
        "      t['y_test']  = y_test\n",
        "      for key, value in t.items():\n",
        "        if key in ['group','fold'] :\n",
        "          print(key, value)\n",
        "        else:\n",
        "          print(key, value.shape)\n",
        "      print(\"\\tDo some processing and training here...\\n\")"
      ],
      "execution_count": 21,
      "outputs": [
        {
          "output_type": "stream",
          "text": [
            "fold 0\n",
            "X_train (18, 4)\n",
            "y_train (18,)\n",
            "X_test (9, 4)\n",
            "y_test (9,)\n",
            "\tDo some processing and training here...\n",
            "\n",
            "fold 1\n",
            "X_train (36, 4)\n",
            "y_train (36,)\n",
            "X_test (18, 4)\n",
            "y_test (18,)\n",
            "\tDo some processing and training here...\n",
            "\n",
            "fold 2\n",
            "X_train (54, 4)\n",
            "y_train (54,)\n",
            "X_test (27, 4)\n",
            "y_test (27,)\n",
            "\tDo some processing and training here...\n",
            "\n",
            "fold 3\n",
            "X_train (72, 4)\n",
            "y_train (72,)\n",
            "X_test (36, 4)\n",
            "y_test (36,)\n",
            "\tDo some processing and training here...\n",
            "\n",
            "fold 4\n",
            "X_train (90, 4)\n",
            "y_train (90,)\n",
            "X_test (45, 4)\n",
            "y_test (45,)\n",
            "\tDo some processing and training here...\n",
            "\n"
          ],
          "name": "stdout"
        }
      ]
    },
    {
      "cell_type": "code",
      "metadata": {
        "id": "G0ENv2TJpvvH",
        "colab_type": "code",
        "colab": {}
      },
      "source": [
        ""
      ],
      "execution_count": 0,
      "outputs": []
    }
  ]
}